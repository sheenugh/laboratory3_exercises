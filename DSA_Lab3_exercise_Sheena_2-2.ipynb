{
 "cells": [
  {
   "cell_type": "markdown",
   "metadata": {},
   "source": [
    "# Object Oriented Programming\n",
    "## Laboratory Exercise \n",
    "Deadline: 11:59pm Oct 13, 2024\n",
    "\n",
    "upload you this file together with your answer, the filename should be DSA_Lab3_exercise<name_and_section>.ipynb\n",
    "\n",
    "upload to https://docs.google.com/forms/d/e/1FAIpQLSdbYz8nlwvYws-ukmS2CcJE6YGgJxpD2y0tVvAxfyz-_pV4mg/viewform?usp=pp_url\n"
   ]
  },
  {
   "cell_type": "markdown",
   "metadata": {},
   "source": [
    "## Lab exercise 1\n",
    "\n",
    "from a given list of integers, create a new list using comprehension that will compute the square of odd integer elements.\n",
    "\n",
    "sample calls\n",
    "\n",
    "[2,4,3] == [9]\n",
    "[0,0,1,1] == [1,1]\n"
   ]
  },
  {
   "cell_type": "code",
   "execution_count": null,
   "metadata": {},
   "outputs": [],
   "source": [
    "list1 = [2, 4, 3]\n",
    "list2 = [0, 0, 1, 1]\n",
    "square_of_odd_integer_element_for_list1= [num**2 for num in list1 if num %2 ==1]\n",
    "square_of_odd_integer_element_for_list2= [num**2 for num in list2 if num %2 ==1]\n",
    "print(f\"{list1} == {square_of_odd_integer_element_for_list1}\")\n",
    "print(f\"{list2} == {square_of_odd_integer_element_for_list2}\")\n",
    "\n",
    "# - I copied the format of the output written on the instruction."
   ]
  },
  {
   "cell_type": "markdown",
   "metadata": {},
   "source": [
    "## Lab exercise 2\n",
    "\n",
    "Using comprehension,create a new list of tuples from two given lists:\n",
    "\n",
    "### sample calls\n",
    "\n",
    "list1[1,2,3]\n",
    "list2[\"mark\",\"alice\",\"john]\n",
    "\n",
    "result: listOfTuple[(1,\"mark\"),(2,\"alice\"),(3,\"john\")] "
   ]
  },
  {
   "cell_type": "code",
   "execution_count": null,
   "metadata": {},
   "outputs": [],
   "source": [
    "list1 = [1,2,3]\n",
    "list2 = [\"mark\",\"alice\",\"john\"]\n",
    "\n",
    "tuples_from_two_lists = [(n,m) for n, m in zip(list1, list2)]\n",
    "print(f\"result: listOfTuple{tuples_from_two_lists}\") # - Relied on the camel case from the instruction for the output"
   ]
  },
  {
   "cell_type": "markdown",
   "metadata": {},
   "source": [
    "\n"
   ]
  },
  {
   "cell_type": "markdown",
   "metadata": {},
   "source": [
    "## Lab exercise 3\n",
    "### Provide a list comprehension that implementation for a function called vowelsToUpper with the following signature:\n",
    "\n",
    "method name : vowelsToUpper\n",
    "\n",
    "input argument : String \n",
    "\n",
    "return argument : String\n",
    "\n",
    "vowelsToUpper must return a version of its String argument with all its vowels changed to their uppercase forms. Nonvowel characters stay as is.\n",
    "\n",
    "### Sample Calls\n",
    "\n",
    "vowelsToUpper \"\" == \"\"\n",
    "\n",
    "vowelsToUpper \"Hello, world!\" == \"HEllO, wOrld!\"\n",
    "\n",
    "vowelsToUpper \"hello hi bye\" == \"hEllO hI byE\""
   ]
  },
  {
   "cell_type": "code",
   "execution_count": null,
   "metadata": {},
   "outputs": [],
   "source": [
    "class transformation_of_str:\n",
    "    def __init__(self):\n",
    "        pass\n",
    "    \n",
    "    # - Instance method in str mode\n",
    "    def vowels_to_upper(self, char: str) -> str:\n",
    "        vowels = \"aeiouAEIOU\"\n",
    "        return ''.join([char.upper() if char in vowels else char for char in char])\n",
    "\n",
    "# Output section\n",
    "obj1 = transformation_of_str()\n",
    "print(obj1.vowels_to_upper(\"==\"))\n",
    "\n",
    "obj2 = transformation_of_str()\n",
    "print(obj2.vowels_to_upper(\"Hello, world!\"))\n",
    "\n",
    "obj3 = transformation_of_str()\n",
    "print(obj3.vowels_to_upper(\"hello hi bye\"))\n",
    "\n",
    "# - Note: I used snake case rather than camel case, we got used to it po since 1st yr. "
   ]
  }
 ],
 "metadata": {
  "kernelspec": {
   "display_name": "Python 3",
   "language": "python",
   "name": "python3"
  },
  "language_info": {
   "codemirror_mode": {
    "name": "ipython",
    "version": 3
   },
   "file_extension": ".py",
   "mimetype": "text/x-python",
   "name": "python",
   "nbconvert_exporter": "python",
   "pygments_lexer": "ipython3",
   "version": "3.12.2"
  }
 },
 "nbformat": 4,
 "nbformat_minor": 2
}
